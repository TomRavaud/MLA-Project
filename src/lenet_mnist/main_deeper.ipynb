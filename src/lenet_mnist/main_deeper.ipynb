{
 "cells": [
  {
   "cell_type": "code",
   "execution_count": 1,
   "metadata": {},
   "outputs": [],
   "source": [
    "# Import libraries\n",
    "import torch\n",
    "import torchvision\n",
    "import torchvision.transforms as transforms\n",
    "from sklearn.model_selection import train_test_split\n",
    "import numpy as np\n",
    "import matplotlib.pyplot as plt\n",
    "from datetime import datetime\n",
    "\n",
    "\n",
    "# Import custom modules and packages\n",
    "import params.lenet_mnist\n",
    "import utils.log\n",
    "import utils.train\n",
    "import utils.test\n",
    "import utils.validate\n",
    "from lenet import LeNet\n",
    "from lenet_deeper import LeNet_Deeper"
   ]
  },
  {
   "cell_type": "markdown",
   "metadata": {},
   "source": [
    "### Load the learning parameters"
   ]
  },
  {
   "cell_type": "code",
   "execution_count": 2,
   "metadata": {},
   "outputs": [],
   "source": [
    "LEARNING_PARAMS = params.lenet_mnist.LEARNING"
   ]
  },
  {
   "cell_type": "markdown",
   "metadata": {},
   "source": [
    "### Prepare the data"
   ]
  },
  {
   "cell_type": "code",
   "execution_count": 3,
   "metadata": {},
   "outputs": [],
   "source": [
    "# Compose several transforms together to be applied to data\n",
    "# (Note that transforms are not applied yet)\n",
    "transform = transforms.Compose([\n",
    "    # Modify the size of the images\n",
    "    transforms.Resize(params.lenet_mnist.IMAGE_SHAPE),\n",
    "    \n",
    "    # Convert a PIL Image or numpy.ndarray to tensor\n",
    "    transforms.ToTensor(),\n",
    "    \n",
    "    # Normalize a tensor image with pre-computed mean and standard deviation\n",
    "    # (based on the data used to train the model(s))\n",
    "    # (be careful, it only works on torch.*Tensor)\n",
    "    transforms.Normalize(**params.lenet_mnist.NORMALIZE_PARAMS),\n",
    "])\n",
    "\n",
    "# Load the train dataset\n",
    "train_dataset = torchvision.datasets.MNIST(\n",
    "    root = '.',\n",
    "    train = True,\n",
    "    transform = transform,\n",
    "    download = True,\n",
    ")\n",
    "\n",
    "# Load the test dataset\n",
    "test_dataset = torchvision.datasets.MNIST(\n",
    "    root = '.',\n",
    "    train = False,\n",
    "    transform = transform,\n",
    "    download=True,\n",
    ")\n",
    "\n",
    "\n",
    "# As MNIST does not provide a validation dataset, we will split the train\n",
    "# dataset into a train and a validation dataset\n",
    "\n",
    "# Start by loading the train dataset, with the same transform as the\n",
    "# test dataset\n",
    "val_dataset = torchvision.datasets.MNIST(\n",
    "    root = '.',\n",
    "    train = True,\n",
    "    transform = transform,\n",
    ")\n",
    "\n",
    "# Set the train dataset size as a percentage of the original train dataset\n",
    "train_size = (len(train_dataset) - len(test_dataset))/len(train_dataset)\n",
    "\n",
    "# Splits train data indices into train and validation data indices\n",
    "train_indices, val_indices = train_test_split(range(len(train_dataset)),\n",
    "                                              train_size=train_size)\n",
    "\n",
    "# Extract the corresponding subsets of the train dataset\n",
    "train_dataset = torch.utils.data.Subset(train_dataset, train_indices)\n",
    "val_dataset = torch.utils.data.Subset(val_dataset, val_indices)\n",
    "\n",
    "\n",
    "# Combine a dataset and a sampler, and provide an iterable over the dataset\n",
    "# (setting shuffle argument to True calls a RandomSampler, and avoids to\n",
    "# have to create a Sampler object)\n",
    "train_loader = torch.utils.data.DataLoader(\n",
    "    dataset = train_dataset,\n",
    "    batch_size = LEARNING_PARAMS['batch_size'],\n",
    "    shuffle = True,\n",
    "    num_workers=8,  # Asynchronous data loading and augmentation\n",
    "    pin_memory=True,  # Increase the transferring speed of the data to the GPU\n",
    ")\n",
    "\n",
    "test_loader = torch.utils.data.DataLoader(\n",
    "    dataset = test_dataset,\n",
    "    batch_size = LEARNING_PARAMS['batch_size'],\n",
    "    shuffle = False,  # SequentialSampler\n",
    "    num_workers=8,\n",
    "    pin_memory=True,\n",
    ")\n",
    "\n",
    "val_loader = torch.utils.data.DataLoader(\n",
    "    val_dataset,\n",
    "    batch_size=LEARNING_PARAMS[\"batch_size\"],\n",
    "    shuffle=True,\n",
    "    num_workers=8,\n",
    "    pin_memory=True,\n",
    ")"
   ]
  },
  {
   "cell_type": "code",
   "execution_count": 4,
   "metadata": {},
   "outputs": [
    {
     "name": "stdout",
     "output_type": "stream",
     "text": [
      "71.4 % of the data for training (50000 samples)\n",
      "14.3 % of the data for validation (10000 samples)\n",
      "14.3 % of the data for testing (10000 samples)\n"
     ]
    }
   ],
   "source": [
    "# Get the number of samples per split\n",
    "NB_TRAIN = len(train_dataset)\n",
    "NB_VAL = len(val_dataset)\n",
    "NB_TEST = len(test_dataset)\n",
    "\n",
    "# Display the splits ratio\n",
    "NB_SAMPLES = NB_TRAIN + NB_VAL + NB_TEST\n",
    "\n",
    "print(f\"{np.round(NB_TRAIN/NB_SAMPLES*100, 1)} % of the data for training ({NB_TRAIN} samples)\")\n",
    "print(f\"{np.round(NB_VAL/NB_SAMPLES*100, 1)} % of the data for validation ({NB_VAL} samples)\")\n",
    "print(f\"{np.round(NB_TEST/NB_SAMPLES*100, 1)} % of the data for testing ({NB_TEST} samples)\")"
   ]
  },
  {
   "cell_type": "markdown",
   "metadata": {},
   "source": [
    "### Device selection"
   ]
  },
  {
   "cell_type": "code",
   "execution_count": 5,
   "metadata": {},
   "outputs": [
    {
     "name": "stdout",
     "output_type": "stream",
     "text": [
      "Device: cuda\n",
      "\n"
     ]
    }
   ],
   "source": [
    "# Use a GPU if available\n",
    "device = \"cuda\" if torch.cuda.is_available() else \"cpu\"\n",
    "print(f\"Device: {device}\\n\")"
   ]
  },
  {
   "cell_type": "markdown",
   "metadata": {},
   "source": [
    "### Training and validation"
   ]
  },
  {
   "cell_type": "code",
   "execution_count": 6,
   "metadata": {},
   "outputs": [],
   "source": [
    "# Instantiate a model\n",
    "model = LeNet(nb_classes=params.lenet_mnist.NB_CLASSES).to(device=device)\n",
    "\n",
    "# Define the loss function (combines nn.LogSoftmax() and nn.NLLLoss())\n",
    "criterion = torch.nn.CrossEntropyLoss()\n",
    "\n",
    "# Set the optimizer\n",
    "optimizer = torch.optim.Adam(\n",
    "    model.parameters(),\n",
    "    lr=LEARNING_PARAMS[\"learning_rate\"],\n",
    "    weight_decay=LEARNING_PARAMS[\"weight_decay\"])"
   ]
  },
  {
   "cell_type": "code",
   "execution_count": 7,
   "metadata": {},
   "outputs": [
    {
     "name": "stderr",
     "output_type": "stream",
     "text": [
      "Epoch 0 [train]: 100%|██████████| 782/782 [01:02<00:00, 12.49batch/s, batch_loss=0.167]  \n",
      "Epoch 0 [val]: 100%|██████████| 157/157 [00:16<00:00,  9.54batch/s, batch_loss=0.0236] \n"
     ]
    },
    {
     "name": "stdout",
     "output_type": "stream",
     "text": [
      "Train accuracy:  95.66\n",
      "Validation accuracy:  97.53\n"
     ]
    },
    {
     "name": "stderr",
     "output_type": "stream",
     "text": [
      "Epoch 1 [train]: 100%|██████████| 782/782 [00:49<00:00, 15.87batch/s, batch_loss=0.0378]  \n",
      "Epoch 1 [val]: 100%|██████████| 157/157 [00:14<00:00, 10.70batch/s, batch_loss=0.0472] \n"
     ]
    },
    {
     "name": "stdout",
     "output_type": "stream",
     "text": [
      "Train accuracy:  98.094\n",
      "Validation accuracy:  98.65\n"
     ]
    },
    {
     "name": "stderr",
     "output_type": "stream",
     "text": [
      "Epoch 2 [train]: 100%|██████████| 782/782 [00:42<00:00, 18.41batch/s, batch_loss=0.00137] \n",
      "Epoch 2 [val]: 100%|██████████| 157/157 [00:13<00:00, 12.06batch/s, batch_loss=0.237]  \n"
     ]
    },
    {
     "name": "stdout",
     "output_type": "stream",
     "text": [
      "Train accuracy:  98.524\n",
      "Validation accuracy:  98.41\n"
     ]
    },
    {
     "name": "stderr",
     "output_type": "stream",
     "text": [
      "Epoch 3 [train]: 100%|██████████| 782/782 [00:45<00:00, 17.13batch/s, batch_loss=0.0517]  \n",
      "Epoch 3 [val]: 100%|██████████| 157/157 [00:12<00:00, 12.39batch/s, batch_loss=0.141]   "
     ]
    },
    {
     "name": "stdout",
     "output_type": "stream",
     "text": [
      "Train accuracy:  98.612\n",
      "Validation accuracy:  98.04\n"
     ]
    },
    {
     "name": "stderr",
     "output_type": "stream",
     "text": [
      "\n"
     ]
    }
   ],
   "source": [
    "# Create tensors to store the loss and accuracy values\n",
    "loss_values = torch.zeros(2, LEARNING_PARAMS[\"nb_epochs\"])\n",
    "accuracy_values = torch.zeros(2, LEARNING_PARAMS[\"nb_epochs\"])\n",
    "\n",
    "\n",
    "# Loop over the epochs\n",
    "for epoch in range(LEARNING_PARAMS[\"nb_epochs\"]):\n",
    "    \n",
    "    # Training\n",
    "    train_loss, train_accuracy = utils.train.train(model,\n",
    "                                                   device,\n",
    "                                                   train_loader,\n",
    "                                                   optimizer,\n",
    "                                                   criterion,\n",
    "                                                   epoch)\n",
    "    \n",
    "    # Validation\n",
    "    val_loss, val_accuracy = utils.validate.validate(model,\n",
    "                                                     device,\n",
    "                                                     val_loader,\n",
    "                                                     criterion,\n",
    "                                                     epoch) \n",
    "    \n",
    "    \n",
    "    print(\"Train accuracy: \", train_accuracy)\n",
    "    print(\"Validation accuracy: \", val_accuracy)\n",
    "    \n",
    "    # Store the computed losses\n",
    "    loss_values[0, epoch] = train_loss\n",
    "    loss_values[1, epoch] = val_loss\n",
    "    # Store the computed accuracies\n",
    "    accuracy_values[0, epoch] = train_accuracy\n",
    "    accuracy_values[1, epoch] = val_accuracy\n"
   ]
  },
  {
   "cell_type": "markdown",
   "metadata": {},
   "source": [
    "#### Visualize the loss and accuracy"
   ]
  },
  {
   "cell_type": "code",
   "execution_count": 8,
   "metadata": {},
   "outputs": [
    {
     "data": {
      "text/plain": [
       "Text(0.5, 0, 'Epoch')"
      ]
     },
     "execution_count": 8,
     "metadata": {},
     "output_type": "execute_result"
    },
    {
     "data": {
      "image/png": "[encoded data removed]",
      "text/plain": [
       "<Figure size 640x480 with 1 Axes>"
      ]
     },
     "metadata": {},
     "output_type": "display_data"
    }
   ],
   "source": [
    "# Loss\n",
    "train_losses = loss_values[0]\n",
    "val_losses = loss_values[1]\n",
    "\n",
    "plt.plot(train_losses, \"b\", label=\"train loss\")\n",
    "plt.plot(val_losses, \"r\", label=\"validation loss\")\n",
    "\n",
    "plt.legend()\n",
    "plt.xlabel(\"Epoch\")"
   ]
  },
  {
   "cell_type": "code",
   "execution_count": 9,
   "metadata": {},
   "outputs": [
    {
     "data": {
      "text/plain": [
       "Text(0.5, 0, 'Epoch')"
      ]
     },
     "execution_count": 9,
     "metadata": {},
     "output_type": "execute_result"
    },
    {
     "data": {
      "image/png": "[encoded data removed]",
      "text/plain": [
       "<Figure size 640x480 with 1 Axes>"
      ]
     },
     "metadata": {},
     "output_type": "display_data"
    }
   ],
   "source": [
    "# Accuracy\n",
    "train_accuracies = accuracy_values[0]\n",
    "val_accuracies = accuracy_values[1]\n",
    "\n",
    "plt.plot(train_accuracies, \"b\", label=\"train accuracy\")\n",
    "plt.plot(val_accuracies, \"r\", label=\"validation accuracy\")\n",
    "\n",
    "plt.legend()\n",
    "plt.xlabel(\"Epoch\")"
   ]
  },
  {
   "cell_type": "markdown",
   "metadata": {},
   "source": [
    "### Testing"
   ]
  },
  {
   "cell_type": "code",
   "execution_count": 10,
   "metadata": {},
   "outputs": [
    {
     "name": "stdout",
     "output_type": "stream",
     "text": [
      "Test loss:  0.07140911651729268\n",
      "Test accuracy:  97.92\n"
     ]
    }
   ],
   "source": [
    "# Test the model\n",
    "test_loss, test_accuracy = utils.test.test(model,\n",
    "                                           device,\n",
    "                                           test_loader,\n",
    "                                           criterion)\n",
    "\n",
    "print(\"Test loss: \", test_loss)\n",
    "print(\"Test accuracy: \", test_accuracy)"
   ]
  },
  {
   "cell_type": "markdown",
   "metadata": {},
   "source": [
    "### Generate a log directory"
   ]
  },
  {
   "cell_type": "code",
   "execution_count": 11,
   "metadata": {},
   "outputs": [],
   "source": [
    "# Turn interactive plotting off\n",
    "plt.ioff()\n",
    "\n",
    "# Get the learning parameters table\n",
    "params_table = utils.log.parameters_table(\n",
    "    dataset=\"MNIST\",\n",
    "    learning_params=LEARNING_PARAMS)\n",
    "\n",
    "# Set the path to the results directory\n",
    "results_directory = \"logs/.\" +\\\n",
    "    datetime.now().strftime(\"%Y-%m-%d-%H-%M-%S\")\n",
    "                        \n",
    "# Generate the log directory\n",
    "utils.log.generate_log(\n",
    "    results_directory=results_directory,\n",
    "    test_accuracy=test_accuracy,\n",
    "    parameters_table=params_table,\n",
    "    model=model,\n",
    "    accuracy_values=accuracy_values)"
   ]
  },
  {
   "cell_type": "markdown",
   "metadata": {},
   "source": [
    "### Net2DeeperNet"
   ]
  },
  {
   "cell_type": "code",
   "execution_count": 12,
   "metadata": {},
   "outputs": [
    {
     "ename": "TypeError",
     "evalue": "LeNet_Deeper.__init__() got an unexpected keyword argument 'nb_classes'",
     "output_type": "error",
     "traceback": [
      "\u001b[1;31m---------------------------------------------------------------------------\u001b[0m",
      "\u001b[1;31mTypeError\u001b[0m                                 Traceback (most recent call last)",
      "\u001b[1;32mc:\\Documents\\Etudes\\Master_SAR\\Deep_Learning\\MLA-Project\\src\\lenet_mnist\\main_deeper.ipynb Cell 20\u001b[0m line \u001b[0;36m2\n\u001b[0;32m      <a href='vscode-notebook-cell:/c%3A/Documents/Etudes/Master_SAR/Deep_Learning/MLA-Project/src/lenet_mnist/main_deeper.ipynb#X25sZmlsZQ%3D%3D?line=0'>1</a>\u001b[0m \u001b[39m# Instantiate a model deeper\u001b[39;00m\n\u001b[1;32m----> <a href='vscode-notebook-cell:/c%3A/Documents/Etudes/Master_SAR/Deep_Learning/MLA-Project/src/lenet_mnist/main_deeper.ipynb#X25sZmlsZQ%3D%3D?line=1'>2</a>\u001b[0m modeldeeper \u001b[39m=\u001b[39m LeNet_Deeper(nb_classes\u001b[39m=\u001b[39;49mparams\u001b[39m.\u001b[39;49mlenet_mnist\u001b[39m.\u001b[39;49mNB_CLASSES)\u001b[39m.\u001b[39mto(device\u001b[39m=\u001b[39mdevice)\n",
      "File \u001b[1;32mc:\\Users\\delpr\\miniconda3\\envs\\mla\\lib\\site-packages\\torch\\nn\\modules\\module.py:460\u001b[0m, in \u001b[0;36mModule.__init__\u001b[1;34m(self, *args, **kwargs)\u001b[0m\n\u001b[0;32m    458\u001b[0m \u001b[39m# Backward compatibility: no args used to be allowed when call_super_init=False\u001b[39;00m\n\u001b[0;32m    459\u001b[0m \u001b[39mif\u001b[39;00m \u001b[39mself\u001b[39m\u001b[39m.\u001b[39mcall_super_init \u001b[39mis\u001b[39;00m \u001b[39mFalse\u001b[39;00m \u001b[39mand\u001b[39;00m \u001b[39mbool\u001b[39m(kwargs):\n\u001b[1;32m--> 460\u001b[0m     \u001b[39mraise\u001b[39;00m \u001b[39mTypeError\u001b[39;00m(\u001b[39m\"\u001b[39m\u001b[39m{}\u001b[39;00m\u001b[39m.__init__() got an unexpected keyword argument \u001b[39m\u001b[39m'\u001b[39m\u001b[39m{}\u001b[39;00m\u001b[39m'\u001b[39m\u001b[39m\"\u001b[39m\n\u001b[0;32m    461\u001b[0m                     \u001b[39m\"\u001b[39m\u001b[39m\"\u001b[39m\u001b[39m.\u001b[39mformat(\u001b[39mtype\u001b[39m(\u001b[39mself\u001b[39m)\u001b[39m.\u001b[39m\u001b[39m__name__\u001b[39m, \u001b[39mnext\u001b[39m(\u001b[39miter\u001b[39m(kwargs))))\n\u001b[0;32m    463\u001b[0m \u001b[39mif\u001b[39;00m \u001b[39mself\u001b[39m\u001b[39m.\u001b[39mcall_super_init \u001b[39mis\u001b[39;00m \u001b[39mFalse\u001b[39;00m \u001b[39mand\u001b[39;00m \u001b[39mbool\u001b[39m(args):\n\u001b[0;32m    464\u001b[0m     \u001b[39mraise\u001b[39;00m \u001b[39mTypeError\u001b[39;00m(\u001b[39mf\u001b[39m\u001b[39m\"\u001b[39m\u001b[39m{\u001b[39;00m\u001b[39mtype\u001b[39m(\u001b[39mself\u001b[39m)\u001b[39m.\u001b[39m\u001b[39m__name__\u001b[39m\u001b[39m}\u001b[39;00m\u001b[39m.__init__() takes 1 positional argument but \u001b[39m\u001b[39m{\u001b[39;00m\u001b[39mlen\u001b[39m(args)\u001b[39m \u001b[39m\u001b[39m+\u001b[39m\u001b[39m \u001b[39m\u001b[39m1\u001b[39m\u001b[39m}\u001b[39;00m\u001b[39m were\u001b[39m\u001b[39m\"\u001b[39m\n\u001b[0;32m    465\u001b[0m                     \u001b[39m\"\u001b[39m\u001b[39m given\u001b[39m\u001b[39m\"\u001b[39m)\n",
      "\u001b[1;31mTypeError\u001b[0m: LeNet_Deeper.__init__() got an unexpected keyword argument 'nb_classes'"
     ]
    }
   ],
   "source": [
    "# Instantiate a model deeper\n",
    "modeldeeper = LeNet_Deeper(nb_classes=params.lenet_mnist.NB_CLASSES).to(device=device)"
   ]
  },
  {
   "cell_type": "code",
   "execution_count": null,
   "metadata": {},
   "outputs": [
    {
     "name": "stderr",
     "output_type": "stream",
     "text": [
      "Epoch 0 [train]: 100%|██████████| 782/782 [00:50<00:00, 15.34batch/s, batch_loss=2.28]\n",
      "Epoch 0 [val]: 100%|██████████| 157/157 [00:13<00:00, 11.99batch/s, batch_loss=2.32] \n"
     ]
    },
    {
     "name": "stdout",
     "output_type": "stream",
     "text": [
      "Train accuracy:  6.526\n",
      "Validation accuracy:  6.81\n"
     ]
    },
    {
     "name": "stderr",
     "output_type": "stream",
     "text": [
      "  0%|          | 0/782 [00:14<?, ?batch/s]\n"
     ]
    },
    {
     "ename": "KeyboardInterrupt",
     "evalue": "",
     "output_type": "error",
     "traceback": [
      "\u001b[1;31m---------------------------------------------------------------------------\u001b[0m",
      "\u001b[1;31mKeyboardInterrupt\u001b[0m                         Traceback (most recent call last)",
      "\u001b[1;32mc:\\Documents\\Etudes\\Master_SAR\\Deep_Learning\\MLA-Project\\src\\lenet_mnist\\main_deeper.ipynb Cell 21\u001b[0m line \u001b[0;36m1\n\u001b[0;32m      <a href='vscode-notebook-cell:/c%3A/Documents/Etudes/Master_SAR/Deep_Learning/MLA-Project/src/lenet_mnist/main_deeper.ipynb#X26sZmlsZQ%3D%3D?line=5'>6</a>\u001b[0m \u001b[39m# Loop over the epochs\u001b[39;00m\n\u001b[0;32m      <a href='vscode-notebook-cell:/c%3A/Documents/Etudes/Master_SAR/Deep_Learning/MLA-Project/src/lenet_mnist/main_deeper.ipynb#X26sZmlsZQ%3D%3D?line=6'>7</a>\u001b[0m \u001b[39mfor\u001b[39;00m epoch \u001b[39min\u001b[39;00m \u001b[39mrange\u001b[39m(LEARNING_PARAMS[\u001b[39m\"\u001b[39m\u001b[39mnb_epochs\u001b[39m\u001b[39m\"\u001b[39m]):\n\u001b[0;32m      <a href='vscode-notebook-cell:/c%3A/Documents/Etudes/Master_SAR/Deep_Learning/MLA-Project/src/lenet_mnist/main_deeper.ipynb#X26sZmlsZQ%3D%3D?line=7'>8</a>\u001b[0m     \n\u001b[0;32m      <a href='vscode-notebook-cell:/c%3A/Documents/Etudes/Master_SAR/Deep_Learning/MLA-Project/src/lenet_mnist/main_deeper.ipynb#X26sZmlsZQ%3D%3D?line=8'>9</a>\u001b[0m     \u001b[39m# Training\u001b[39;00m\n\u001b[1;32m---> <a href='vscode-notebook-cell:/c%3A/Documents/Etudes/Master_SAR/Deep_Learning/MLA-Project/src/lenet_mnist/main_deeper.ipynb#X26sZmlsZQ%3D%3D?line=9'>10</a>\u001b[0m     train_loss, train_accuracy \u001b[39m=\u001b[39m utils\u001b[39m.\u001b[39;49mtrain\u001b[39m.\u001b[39;49mtrain(modeldeeper,\n\u001b[0;32m     <a href='vscode-notebook-cell:/c%3A/Documents/Etudes/Master_SAR/Deep_Learning/MLA-Project/src/lenet_mnist/main_deeper.ipynb#X26sZmlsZQ%3D%3D?line=10'>11</a>\u001b[0m                                                    device,\n\u001b[0;32m     <a href='vscode-notebook-cell:/c%3A/Documents/Etudes/Master_SAR/Deep_Learning/MLA-Project/src/lenet_mnist/main_deeper.ipynb#X26sZmlsZQ%3D%3D?line=11'>12</a>\u001b[0m                                                    train_loader,\n\u001b[0;32m     <a href='vscode-notebook-cell:/c%3A/Documents/Etudes/Master_SAR/Deep_Learning/MLA-Project/src/lenet_mnist/main_deeper.ipynb#X26sZmlsZQ%3D%3D?line=12'>13</a>\u001b[0m                                                    optimizer,\n\u001b[0;32m     <a href='vscode-notebook-cell:/c%3A/Documents/Etudes/Master_SAR/Deep_Learning/MLA-Project/src/lenet_mnist/main_deeper.ipynb#X26sZmlsZQ%3D%3D?line=13'>14</a>\u001b[0m                                                    criterion,\n\u001b[0;32m     <a href='vscode-notebook-cell:/c%3A/Documents/Etudes/Master_SAR/Deep_Learning/MLA-Project/src/lenet_mnist/main_deeper.ipynb#X26sZmlsZQ%3D%3D?line=14'>15</a>\u001b[0m                                                    epoch)\n\u001b[0;32m     <a href='vscode-notebook-cell:/c%3A/Documents/Etudes/Master_SAR/Deep_Learning/MLA-Project/src/lenet_mnist/main_deeper.ipynb#X26sZmlsZQ%3D%3D?line=16'>17</a>\u001b[0m     \u001b[39m# Validation\u001b[39;00m\n\u001b[0;32m     <a href='vscode-notebook-cell:/c%3A/Documents/Etudes/Master_SAR/Deep_Learning/MLA-Project/src/lenet_mnist/main_deeper.ipynb#X26sZmlsZQ%3D%3D?line=17'>18</a>\u001b[0m     val_loss, val_accuracy \u001b[39m=\u001b[39m utils\u001b[39m.\u001b[39mvalidate\u001b[39m.\u001b[39mvalidate(modeldeeper,\n\u001b[0;32m     <a href='vscode-notebook-cell:/c%3A/Documents/Etudes/Master_SAR/Deep_Learning/MLA-Project/src/lenet_mnist/main_deeper.ipynb#X26sZmlsZQ%3D%3D?line=18'>19</a>\u001b[0m                                                      device,\n\u001b[0;32m     <a href='vscode-notebook-cell:/c%3A/Documents/Etudes/Master_SAR/Deep_Learning/MLA-Project/src/lenet_mnist/main_deeper.ipynb#X26sZmlsZQ%3D%3D?line=19'>20</a>\u001b[0m                                                      val_loader,\n\u001b[0;32m     <a href='vscode-notebook-cell:/c%3A/Documents/Etudes/Master_SAR/Deep_Learning/MLA-Project/src/lenet_mnist/main_deeper.ipynb#X26sZmlsZQ%3D%3D?line=20'>21</a>\u001b[0m                                                      criterion,\n\u001b[0;32m     <a href='vscode-notebook-cell:/c%3A/Documents/Etudes/Master_SAR/Deep_Learning/MLA-Project/src/lenet_mnist/main_deeper.ipynb#X26sZmlsZQ%3D%3D?line=21'>22</a>\u001b[0m                                                      epoch) \n",
      "File \u001b[1;32mc:\\documents\\etudes\\master_sar\\deep_learning\\mla-project\\src\\utils\\utils\\train.py:42\u001b[0m, in \u001b[0;36mtrain\u001b[1;34m(model, device, train_loader, optimizer, criterion, epoch)\u001b[0m\n\u001b[0;32m     39\u001b[0m train_loader_pbar \u001b[39m=\u001b[39m tqdm(train_loader, unit\u001b[39m=\u001b[39m\u001b[39m\"\u001b[39m\u001b[39mbatch\u001b[39m\u001b[39m\"\u001b[39m)\n\u001b[0;32m     41\u001b[0m \u001b[39m# Loop over the training batches\u001b[39;00m\n\u001b[1;32m---> 42\u001b[0m \u001b[39mfor\u001b[39;00m images, labels \u001b[39min\u001b[39;00m train_loader_pbar:\n\u001b[0;32m     43\u001b[0m     \n\u001b[0;32m     44\u001b[0m     \u001b[39m# Print the epoch and training mode\u001b[39;00m\n\u001b[0;32m     45\u001b[0m     train_loader_pbar\u001b[39m.\u001b[39mset_description(\u001b[39mf\u001b[39m\u001b[39m\"\u001b[39m\u001b[39mEpoch \u001b[39m\u001b[39m{\u001b[39;00mepoch\u001b[39m}\u001b[39;00m\u001b[39m [train]\u001b[39m\u001b[39m\"\u001b[39m)\n\u001b[0;32m     47\u001b[0m     \u001b[39m# Move images and labels to GPU (if available)\u001b[39;00m\n",
      "File \u001b[1;32mc:\\Users\\delpr\\miniconda3\\envs\\mla\\lib\\site-packages\\tqdm\\std.py:1182\u001b[0m, in \u001b[0;36mtqdm.__iter__\u001b[1;34m(self)\u001b[0m\n\u001b[0;32m   1179\u001b[0m time \u001b[39m=\u001b[39m \u001b[39mself\u001b[39m\u001b[39m.\u001b[39m_time\n\u001b[0;32m   1181\u001b[0m \u001b[39mtry\u001b[39;00m:\n\u001b[1;32m-> 1182\u001b[0m     \u001b[39mfor\u001b[39;00m obj \u001b[39min\u001b[39;00m iterable:\n\u001b[0;32m   1183\u001b[0m         \u001b[39myield\u001b[39;00m obj\n\u001b[0;32m   1184\u001b[0m         \u001b[39m# Update and possibly print the progressbar.\u001b[39;00m\n\u001b[0;32m   1185\u001b[0m         \u001b[39m# Note: does not call self.update(1) for speed optimisation.\u001b[39;00m\n",
      "File \u001b[1;32mc:\\Users\\delpr\\miniconda3\\envs\\mla\\lib\\site-packages\\torch\\utils\\data\\dataloader.py:438\u001b[0m, in \u001b[0;36mDataLoader.__iter__\u001b[1;34m(self)\u001b[0m\n\u001b[0;32m    436\u001b[0m     \u001b[39mreturn\u001b[39;00m \u001b[39mself\u001b[39m\u001b[39m.\u001b[39m_iterator\n\u001b[0;32m    437\u001b[0m \u001b[39melse\u001b[39;00m:\n\u001b[1;32m--> 438\u001b[0m     \u001b[39mreturn\u001b[39;00m \u001b[39mself\u001b[39;49m\u001b[39m.\u001b[39;49m_get_iterator()\n",
      "File \u001b[1;32mc:\\Users\\delpr\\miniconda3\\envs\\mla\\lib\\site-packages\\torch\\utils\\data\\dataloader.py:386\u001b[0m, in \u001b[0;36mDataLoader._get_iterator\u001b[1;34m(self)\u001b[0m\n\u001b[0;32m    384\u001b[0m \u001b[39melse\u001b[39;00m:\n\u001b[0;32m    385\u001b[0m     \u001b[39mself\u001b[39m\u001b[39m.\u001b[39mcheck_worker_number_rationality()\n\u001b[1;32m--> 386\u001b[0m     \u001b[39mreturn\u001b[39;00m _MultiProcessingDataLoaderIter(\u001b[39mself\u001b[39;49m)\n",
      "File \u001b[1;32mc:\\Users\\delpr\\miniconda3\\envs\\mla\\lib\\site-packages\\torch\\utils\\data\\dataloader.py:1039\u001b[0m, in \u001b[0;36m_MultiProcessingDataLoaderIter.__init__\u001b[1;34m(self, loader)\u001b[0m\n\u001b[0;32m   1032\u001b[0m w\u001b[39m.\u001b[39mdaemon \u001b[39m=\u001b[39m \u001b[39mTrue\u001b[39;00m\n\u001b[0;32m   1033\u001b[0m \u001b[39m# NB: Process.start() actually take some time as it needs to\u001b[39;00m\n\u001b[0;32m   1034\u001b[0m \u001b[39m#     start a process and pass the arguments over via a pipe.\u001b[39;00m\n\u001b[0;32m   1035\u001b[0m \u001b[39m#     Therefore, we only add a worker to self._workers list after\u001b[39;00m\n\u001b[0;32m   1036\u001b[0m \u001b[39m#     it started, so that we do not call .join() if program dies\u001b[39;00m\n\u001b[0;32m   1037\u001b[0m \u001b[39m#     before it starts, and __del__ tries to join but will get:\u001b[39;00m\n\u001b[0;32m   1038\u001b[0m \u001b[39m#     AssertionError: can only join a started process.\u001b[39;00m\n\u001b[1;32m-> 1039\u001b[0m w\u001b[39m.\u001b[39;49mstart()\n\u001b[0;32m   1040\u001b[0m \u001b[39mself\u001b[39m\u001b[39m.\u001b[39m_index_queues\u001b[39m.\u001b[39mappend(index_queue)\n\u001b[0;32m   1041\u001b[0m \u001b[39mself\u001b[39m\u001b[39m.\u001b[39m_workers\u001b[39m.\u001b[39mappend(w)\n",
      "File \u001b[1;32mc:\\Users\\delpr\\miniconda3\\envs\\mla\\lib\\multiprocessing\\process.py:121\u001b[0m, in \u001b[0;36mBaseProcess.start\u001b[1;34m(self)\u001b[0m\n\u001b[0;32m    118\u001b[0m \u001b[39massert\u001b[39;00m \u001b[39mnot\u001b[39;00m _current_process\u001b[39m.\u001b[39m_config\u001b[39m.\u001b[39mget(\u001b[39m'\u001b[39m\u001b[39mdaemon\u001b[39m\u001b[39m'\u001b[39m), \\\n\u001b[0;32m    119\u001b[0m        \u001b[39m'\u001b[39m\u001b[39mdaemonic processes are not allowed to have children\u001b[39m\u001b[39m'\u001b[39m\n\u001b[0;32m    120\u001b[0m _cleanup()\n\u001b[1;32m--> 121\u001b[0m \u001b[39mself\u001b[39m\u001b[39m.\u001b[39m_popen \u001b[39m=\u001b[39m \u001b[39mself\u001b[39;49m\u001b[39m.\u001b[39;49m_Popen(\u001b[39mself\u001b[39;49m)\n\u001b[0;32m    122\u001b[0m \u001b[39mself\u001b[39m\u001b[39m.\u001b[39m_sentinel \u001b[39m=\u001b[39m \u001b[39mself\u001b[39m\u001b[39m.\u001b[39m_popen\u001b[39m.\u001b[39msentinel\n\u001b[0;32m    123\u001b[0m \u001b[39m# Avoid a refcycle if the target function holds an indirect\u001b[39;00m\n\u001b[0;32m    124\u001b[0m \u001b[39m# reference to the process object (see bpo-30775)\u001b[39;00m\n",
      "File \u001b[1;32mc:\\Users\\delpr\\miniconda3\\envs\\mla\\lib\\multiprocessing\\context.py:224\u001b[0m, in \u001b[0;36mProcess._Popen\u001b[1;34m(process_obj)\u001b[0m\n\u001b[0;32m    222\u001b[0m \u001b[39m@staticmethod\u001b[39m\n\u001b[0;32m    223\u001b[0m \u001b[39mdef\u001b[39;00m \u001b[39m_Popen\u001b[39m(process_obj):\n\u001b[1;32m--> 224\u001b[0m     \u001b[39mreturn\u001b[39;00m _default_context\u001b[39m.\u001b[39;49mget_context()\u001b[39m.\u001b[39;49mProcess\u001b[39m.\u001b[39;49m_Popen(process_obj)\n",
      "File \u001b[1;32mc:\\Users\\delpr\\miniconda3\\envs\\mla\\lib\\multiprocessing\\context.py:336\u001b[0m, in \u001b[0;36mSpawnProcess._Popen\u001b[1;34m(process_obj)\u001b[0m\n\u001b[0;32m    333\u001b[0m \u001b[39m@staticmethod\u001b[39m\n\u001b[0;32m    334\u001b[0m \u001b[39mdef\u001b[39;00m \u001b[39m_Popen\u001b[39m(process_obj):\n\u001b[0;32m    335\u001b[0m     \u001b[39mfrom\u001b[39;00m \u001b[39m.\u001b[39;00m\u001b[39mpopen_spawn_win32\u001b[39;00m \u001b[39mimport\u001b[39;00m Popen\n\u001b[1;32m--> 336\u001b[0m     \u001b[39mreturn\u001b[39;00m Popen(process_obj)\n",
      "File \u001b[1;32mc:\\Users\\delpr\\miniconda3\\envs\\mla\\lib\\multiprocessing\\popen_spawn_win32.py:93\u001b[0m, in \u001b[0;36mPopen.__init__\u001b[1;34m(self, process_obj)\u001b[0m\n\u001b[0;32m     91\u001b[0m \u001b[39mtry\u001b[39;00m:\n\u001b[0;32m     92\u001b[0m     reduction\u001b[39m.\u001b[39mdump(prep_data, to_child)\n\u001b[1;32m---> 93\u001b[0m     reduction\u001b[39m.\u001b[39;49mdump(process_obj, to_child)\n\u001b[0;32m     94\u001b[0m \u001b[39mfinally\u001b[39;00m:\n\u001b[0;32m     95\u001b[0m     set_spawning_popen(\u001b[39mNone\u001b[39;00m)\n",
      "File \u001b[1;32mc:\\Users\\delpr\\miniconda3\\envs\\mla\\lib\\multiprocessing\\reduction.py:60\u001b[0m, in \u001b[0;36mdump\u001b[1;34m(obj, file, protocol)\u001b[0m\n\u001b[0;32m     58\u001b[0m \u001b[39mdef\u001b[39;00m \u001b[39mdump\u001b[39m(obj, file, protocol\u001b[39m=\u001b[39m\u001b[39mNone\u001b[39;00m):\n\u001b[0;32m     59\u001b[0m \u001b[39m    \u001b[39m\u001b[39m'''Replacement for pickle.dump() using ForkingPickler.'''\u001b[39;00m\n\u001b[1;32m---> 60\u001b[0m     ForkingPickler(file, protocol)\u001b[39m.\u001b[39;49mdump(obj)\n",
      "\u001b[1;31mKeyboardInterrupt\u001b[0m: "
     ]
    }
   ],
   "source": [
    "# Create tensors to store the loss and accuracy values\n",
    "loss_values = torch.zeros(2, LEARNING_PARAMS[\"nb_epochs\"])\n",
    "accuracy_values = torch.zeros(2, LEARNING_PARAMS[\"nb_epochs\"])\n",
    "\n",
    "\n",
    "# Loop over the epochs\n",
    "for epoch in range(LEARNING_PARAMS[\"nb_epochs\"]):\n",
    "    \n",
    "    # Training\n",
    "    train_loss, train_accuracy = utils.train.train(modeldeeper,\n",
    "                                                   device,\n",
    "                                                   train_loader,\n",
    "                                                   optimizer,\n",
    "                                                   criterion,\n",
    "                                                   epoch)\n",
    "    \n",
    "    # Validation\n",
    "    val_loss, val_accuracy = utils.validate.validate(modeldeeper,\n",
    "                                                     device,\n",
    "                                                     val_loader,\n",
    "                                                     criterion,\n",
    "                                                     epoch) \n",
    "    \n",
    "    \n",
    "    print(\"Train accuracy: \", train_accuracy)\n",
    "    print(\"Validation accuracy: \", val_accuracy)\n",
    "    \n",
    "    # Store the computed losses\n",
    "    loss_values[0, epoch] = train_loss\n",
    "    loss_values[1, epoch] = val_loss\n",
    "    # Store the computed accuracies\n",
    "    accuracy_values[0, epoch] = train_accuracy\n",
    "    accuracy_values[1, epoch] = val_accuracy"
   ]
  },
  {
   "cell_type": "markdown",
   "metadata": {},
   "source": [
    "#### Visualize the loss and accuracy"
   ]
  },
  {
   "cell_type": "code",
   "execution_count": null,
   "metadata": {},
   "outputs": [],
   "source": [
    "# Loss\n",
    "train_losses = loss_values[0]\n",
    "val_losses = loss_values[1]\n",
    "\n",
    "plt.plot(train_losses, \"b\", label=\"train loss\")\n",
    "plt.plot(val_losses, \"r\", label=\"validation loss\")\n",
    "\n",
    "plt.legend()\n",
    "plt.xlabel(\"Epoch\")"
   ]
  },
  {
   "cell_type": "code",
   "execution_count": null,
   "metadata": {},
   "outputs": [],
   "source": [
    "# Accuracy\n",
    "train_accuracies = accuracy_values[0]\n",
    "val_accuracies = accuracy_values[1]\n",
    "\n",
    "plt.plot(train_accuracies, \"b\", label=\"train accuracy\")\n",
    "plt.plot(val_accuracies, \"r\", label=\"validation accuracy\")\n",
    "\n",
    "plt.legend()\n",
    "plt.xlabel(\"Epoch\")"
   ]
  },
  {
   "cell_type": "markdown",
   "metadata": {},
   "source": [
    "### Testing"
   ]
  },
  {
   "cell_type": "code",
   "execution_count": null,
   "metadata": {},
   "outputs": [],
   "source": [
    "# Test the model\n",
    "test_loss, test_accuracy = utils.test.test(model,\n",
    "                                           device,\n",
    "                                           test_loader,\n",
    "                                           criterion)\n",
    "\n",
    "print(\"Test loss: \", test_loss)\n",
    "print(\"Test accuracy: \", test_accuracy)"
   ]
  },
  {
   "cell_type": "markdown",
   "metadata": {},
   "source": [
    "### Generate a log directory"
   ]
  },
  {
   "cell_type": "code",
   "execution_count": null,
   "metadata": {},
   "outputs": [],
   "source": [
    "# Turn interactive plotting off\n",
    "plt.ioff()\n",
    "\n",
    "# Get the learning parameters table\n",
    "params_table = utils.log.parameters_table(\n",
    "    dataset=\"MNIST\",\n",
    "    learning_params=LEARNING_PARAMS)\n",
    "\n",
    "# Set the path to the results directory\n",
    "results_directory = \"logs/.\" +\\\n",
    "    datetime.now().strftime(\"%Y-%m-%d-%H-%M-%S\")\n",
    "                        \n",
    "# Generate the log directory\n",
    "utils.log.generate_log(\n",
    "    results_directory=results_directory,\n",
    "    test_accuracy=test_accuracy,\n",
    "    parameters_table=params_table,\n",
    "    model=model,\n",
    "    accuracy_values=accuracy_values)"
   ]
  }
 ],
 "metadata": {
  "kernelspec": {
   "display_name": "mla",
   "language": "python",
   "name": "python3"
  },
  "language_info": {
   "codemirror_mode": {
    "name": "ipython",
    "version": 3
   },
   "file_extension": ".py",
   "mimetype": "text/x-python",
   "name": "python",
   "nbconvert_exporter": "python",
   "pygments_lexer": "ipython3",
   "version": "3.10.13"
  }
 },
 "nbformat": 4,
 "nbformat_minor": 2
}
