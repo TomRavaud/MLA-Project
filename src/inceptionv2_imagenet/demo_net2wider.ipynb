{
 "cells": [
  {
   "cell_type": "markdown",
   "metadata": {},
   "source": [
    "# **Demo:** Net2WiderNet on ImageNet with Inception-V2"
   ]
  },
  {
   "cell_type": "markdown",
   "metadata": {},
   "source": [
    "The following demo shows how to apply Net2WiderNet to Inception-V2 in order to increase the number of output filters in each layer of the Inception blocks. The input image shape is the one of ImageNet, but the network and the Net2WiderNet algorithm can be applied to any other image size."
   ]
  },
  {
   "cell_type": "code",
   "execution_count": null,
   "metadata": {},
   "outputs": [],
   "source": [
    "# Import libraries\n",
    "import torch\n",
    "import numpy as np\n",
    "import torchinfo\n",
    "\n",
    "# Import custom modules and packages\n",
    "from models.inceptionv2 import GoogleNetBN\n",
    "import params.inceptionv2_imagenet\n",
    "import net2net.net2net_wider"
   ]
  },
  {
   "cell_type": "markdown",
   "metadata": {},
   "source": [
    "### 1. Create an Inception-V2 model narrower than the original one\n",
    "\n",
    "We start by creating an Inception-V2 model, narrower than the standard model: the number of convolution channels at each layer within all Inception modules is reduced by a factor of $\\sqrt{0.3}$. The rest of the network remains the same."
   ]
  },
  {
   "cell_type": "code",
   "execution_count": null,
   "metadata": {},
   "outputs": [],
   "source": [
    "# Create a downsized version of the Inception-V2 network\n",
    "# (with 10 classes instead of 1000 for demo purposes)\n",
    "model = GoogleNetBN(nb_classes=10, inception_factor=np.sqrt(0.3))\n",
    "\n",
    "# Create a random input\n",
    "x = torch.randn(1,\n",
    "                params.inceptionv2_imagenet.NB_CHANNELS,\n",
    "                *params.inceptionv2_imagenet.IMAGE_SHAPE)\n",
    "\n",
    "# Compute the output of the teacher network\n",
    "# (forward pass to initialize the Lazy modules)\n",
    "y_teacher = model(x)"
   ]
  },
  {
   "cell_type": "markdown",
   "metadata": {},
   "source": [
    "### 2. Recover the standard architecture of Inception-V2 using the Net2WiderNet algorithm\n",
    "\n",
    "We then apply the Net2WiderNet algorithm to the narrower model in order to recover the standard architecture of Inception-V2. The algorithm is applied to the Inception modules and the fully-connected layer only, since the rest of the network is already standard. The weights and biases of the student model (the wider one) are initialized with those of the teacher model (the narrower one), in such a way that the output of the student model is the same as the output of the teacher model for the same input at initialization."
   ]
  },
  {
   "cell_type": "code",
   "execution_count": null,
   "metadata": {},
   "outputs": [],
   "source": [
    "# Instantiate a Net2Net object from a (pre-trained) model\n",
    "net2net = net2net.net2net_wider.Net2Net(teacher_network=model)\n",
    "\n",
    "# Get the list of widening operations\n",
    "wider_operations = params.inceptionv2_imagenet.wider_operations\n",
    "\n",
    "# Add some noise to the copied weights (optional)\n",
    "sigma = 0.  # Standard deviation of the noise\n",
    "\n",
    "# Apply the Net2Net widening operations and get the student network\n",
    "net2net.net2wider(wider_operations, sigma=sigma)\n",
    "student_model = net2net.get_student_network()\n",
    "\n",
    "# Compute the output of the student network\n",
    "y_student = student_model(x)"
   ]
  },
  {
   "cell_type": "markdown",
   "metadata": {},
   "source": [
    "### 3. Check that the student and teacher models have the same output for the same input\n",
    "\n",
    "We check that the output of the student model is the same as the output of the teacher model for the same input at initialization. They can be slightly different if some noise has been added to the weights of the student model during the initialization."
   ]
  },
  {
   "cell_type": "code",
   "execution_count": null,
   "metadata": {},
   "outputs": [],
   "source": [
    "# The outputs should be the same\n",
    "print(\"Teacher output: \", y_teacher)\n",
    "print(\"Student output: \", y_student, \"\\n\")"
   ]
  },
  {
   "cell_type": "markdown",
   "metadata": {},
   "source": [
    "### 4. Have a look at the student and teacher architectures"
   ]
  },
  {
   "cell_type": "markdown",
   "metadata": {},
   "source": [
    "We start by displaying the architecture of the teacher model. We can check that the number of convolution channels at each layer within all Inception modules is reduced by a factor of $\\sqrt{0.3}$. The model has $1.886.577$ trainable parameters."
   ]
  },
  {
   "cell_type": "code",
   "execution_count": null,
   "metadata": {},
   "outputs": [],
   "source": [
    "# Display the architecture of the student network\n",
    "torchinfo.summary(model, input_size=(1,\n",
    "                                     params.inceptionv2_imagenet.NB_CHANNELS,\n",
    "                                     *params.inceptionv2_imagenet.IMAGE_SHAPE))"
   ]
  },
  {
   "cell_type": "markdown",
   "metadata": {},
   "source": [
    "We then display the architecture of the student model. We can check that the number of convolution channels at each layer within all Inception modules is the same as the standard model. The model has $5.998.362$ trainable parameters. Thus, the number of parameters in the teacher model is about $31.5\\%$ of the number of parameters in the student model."
   ]
  },
  {
   "cell_type": "code",
   "execution_count": null,
   "metadata": {},
   "outputs": [],
   "source": [
    "# Display the architecture of the student network\n",
    "torchinfo.summary(net2net.student_network, input_size=(1,\n",
    "                                                       params.inceptionv2_imagenet.NB_CHANNELS,\n",
    "                                                       *params.inceptionv2_imagenet.IMAGE_SHAPE))"
   ]
  }
 ],
 "metadata": {
  "kernelspec": {
   "display_name": "mla",
   "language": "python",
   "name": "python3"
  },
  "language_info": {
   "codemirror_mode": {
    "name": "ipython",
    "version": 3
   },
   "file_extension": ".py",
   "mimetype": "text/x-python",
   "name": "python",
   "nbconvert_exporter": "python",
   "pygments_lexer": "ipython3",
   "version": "3.10.13"
  }
 },
 "nbformat": 4,
 "nbformat_minor": 2
}
